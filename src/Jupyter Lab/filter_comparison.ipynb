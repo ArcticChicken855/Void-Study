{
 "cells": [
  {
   "cell_type": "code",
   "execution_count": 6,
   "id": "1ee86a84-a896-4371-b24b-0616d962f772",
   "metadata": {},
   "outputs": [],
   "source": [
    "import sympy as sp\n",
    "from IPython.display import display, Math\n",
    "import plotly.graph_objects as go\n",
    "import numpy as np\n",
    "import matplotlib.pyplot as plt"
   ]
  },
  {
   "cell_type": "code",
   "execution_count": 7,
   "id": "715156db-a00b-4065-bc45-e7c0ed0b0f28",
   "metadata": {},
   "outputs": [],
   "source": [
    "def disp(expression):\n",
    "    \"\"\"This function is for easy display of sympy stuff\"\"\"\n",
    "    display(Math(sp.latex(expression)))"
   ]
  },
  {
   "cell_type": "markdown",
   "id": "4b9b087e",
   "metadata": {},
   "source": [
    "This file is for the comparison between linear regression filter and other filters."
   ]
  },
  {
   "cell_type": "markdown",
   "id": "7989759d",
   "metadata": {},
   "source": [
    "Make a function for regression filtering"
   ]
  },
  {
   "cell_type": "code",
   "execution_count": 8,
   "id": "455c67a9",
   "metadata": {},
   "outputs": [],
   "source": [
    "def regress_point(data):\n",
    "    \"\"\"\n",
    "    Performs linear regression on an array with an odd length and\n",
    "    outputs the value of the regression line at the x-value of the central data point.\n",
    "    \n",
    "    Parameters:\n",
    "        data (numpy.ndarray): Input array with an odd length.\n",
    "        \n",
    "    Returns:\n",
    "        float: The value of the regression line at the central x-value.\n",
    "    \"\"\"\n",
    "    if len(data) % 2 == 0:\n",
    "        raise ValueError(\"Input array must have an odd length.\")\n",
    "\n",
    "    # Define x-values corresponding to the indices of the data\n",
    "    x = np.arange(len(data))\n",
    "    \n",
    "    # Central index\n",
    "    central_index = len(data) // 2\n",
    "    x_central = x[central_index]\n",
    "\n",
    "    # Perform linear regression (fit a line to the data)\n",
    "    coefficients = np.polyfit(x, data, 1)\n",
    "    \n",
    "    # Define the regression line\n",
    "    def regression_line(x):\n",
    "        return coefficients[0] * x + coefficients[1]\n",
    "    \n",
    "    # Compute the value of the regression line at the central x-value\n",
    "    central_value = regression_line(x_central)\n",
    "    \n",
    "    return central_value"
   ]
  },
  {
   "cell_type": "markdown",
   "id": "52ce3206",
   "metadata": {},
   "source": [
    "Make a vector of gaussian noise."
   ]
  },
  {
   "cell_type": "code",
   "execution_count": 9,
   "id": "b72c9916",
   "metadata": {},
   "outputs": [],
   "source": [
    "mean = 0\n",
    "std_dev = 1\n",
    "N = int(1E7)\n",
    "\n",
    "awgn_data = np.random.normal(mean, std_dev, N)"
   ]
  },
  {
   "cell_type": "markdown",
   "id": "6c419154",
   "metadata": {},
   "source": [
    "Apply the regression filter to the awgn noise."
   ]
  },
  {
   "cell_type": "code",
   "execution_count": null,
   "id": "c0e98556",
   "metadata": {},
   "outputs": [],
   "source": [
    "def regression_filter(data, regression_size):\n",
    "    \"\"\"\n",
    "    This is the function that applies the regression filter to the input data.\n",
    "    The regression_size var must be odd! Equal wing size on either side of the\n",
    "    data point.\n",
    "    \"\"\"\n",
    "    wing_size = regression_size // 2\n",
    "\n",
    "    output_vector = np.zeros(len(data))\n",
    "\n",
    "    for i, n in enumerate(awgn_data[wing_size : len(data)-wing_size-1]):\n",
    "        data_to_regress = awgn_data[i-wing_size : i+wing_size+1]\n",
    "        output_vector[i] = regress_point(data_to_regress)\n",
    "\n",
    "    # trim the zeros out of the output vector and return\n",
    "    return output_vector[output_vector != 0]        \n",
    "\n",
    "\n",
    "# use the filter on the AWGN noise"
   ]
  }
 ],
 "metadata": {
  "kernelspec": {
   "display_name": "Python 3 (ipykernel)",
   "language": "python",
   "name": "python3"
  },
  "language_info": {
   "codemirror_mode": {
    "name": "ipython",
    "version": 3
   },
   "file_extension": ".py",
   "mimetype": "text/x-python",
   "name": "python",
   "nbconvert_exporter": "python",
   "pygments_lexer": "ipython3",
   "version": "3.12.2"
  }
 },
 "nbformat": 4,
 "nbformat_minor": 5
}

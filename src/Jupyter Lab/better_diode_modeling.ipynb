{
 "cells": [
  {
   "cell_type": "markdown",
   "id": "654dd5b1-2d0f-4335-b40f-37aa1a2fdef0",
   "metadata": {},
   "source": [
    "This program is used to find the diode model parameters.\n",
    "It uses the technique in https://www.sciencedirect.com/science/article/pii/S0038110106000323#bib13, \"Physics-based modeling and characterization for silicon carbide power diodes\"\n",
    "It also uses the data collected by Baker."
   ]
  },
  {
   "cell_type": "code",
   "execution_count": 3,
   "id": "1ee86a84-a896-4371-b24b-0616d962f772",
   "metadata": {},
   "outputs": [],
   "source": [
    "import pandas as pd\n",
    "import numpy as np\n",
    "from pathlib import Path\n",
    "from scipy.optimize import curve_fit\n",
    "import matplotlib.pyplot as plt"
   ]
  },
  {
   "cell_type": "code",
   "execution_count": null,
   "id": "af5bda80",
   "metadata": {},
   "outputs": [
    {
     "name": "stdout",
     "output_type": "stream",
     "text": [
      "{'WB 1': {}, 'WB 2': {}}\n"
     ]
    }
   ],
   "source": [
    "# read the excel data for IV curve and Is and put it into numpy arrays\n",
    "project_dir = Path.cwd().parent.parent\n",
    "IV_file_path = project_dir / r'Experimental Data' / r'Diode Nathan.xlsx'\n",
    "Is_file_path = project_dir / r'Experimental Data' / r'Diode Is measurement.xlsx'\n",
    "\n",
    "# start with Is\n",
    "# look at the Is measurements at 65.8V\n",
    "df = pd.read_excel(Is_file_path)\n",
    "df = df.drop(df.columns[5:], axis=1)\n",
    "\n",
    "# convert to numpy\n",
    "reverse_currents = df['Reverse Current (uA)'].to_numpy()\n",
    "Is_temperatures = df['Temperature (K)'].to_numpy() # temperatures in kelvin\n",
    "\n",
    "# now do the IV curve data\n",
    "dfs = pd.read_excel(IV_file_path, sheet_name=None) # dfs is a dictionary: {sheet_name: DataFrame}\n",
    "IV_data = {key: dict() for key in dfs}\n",
    "\n",
    "# convert into numpy arrays\n",
    "for diode_name, df in dfs.items():\n",
    "\n",
    "    for col in df.columns:\n",
    "        if type(col) == type(1): # if it is an int, it must be the temperature\n",
    "            IV_data[diode_name][col] = dict\n",
    "        else: pass"
   ]
  }
 ],
 "metadata": {
  "kernelspec": {
   "display_name": "env",
   "language": "python",
   "name": "python3"
  },
  "language_info": {
   "codemirror_mode": {
    "name": "ipython",
    "version": 3
   },
   "file_extension": ".py",
   "mimetype": "text/x-python",
   "name": "python",
   "nbconvert_exporter": "python",
   "pygments_lexer": "ipython3",
   "version": "3.12.2"
  }
 },
 "nbformat": 4,
 "nbformat_minor": 5
}

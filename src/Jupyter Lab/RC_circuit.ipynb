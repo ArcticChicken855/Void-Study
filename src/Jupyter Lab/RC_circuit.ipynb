{
 "cells": [
  {
   "cell_type": "code",
   "execution_count": 15,
   "id": "1ee86a84-a896-4371-b24b-0616d962f772",
   "metadata": {},
   "outputs": [],
   "source": [
    "import sympy as sp\n",
    "from IPython.display import display, Math\n",
    "import plotly.graph_objects as go\n",
    "import numpy as np\n",
    "import matplotlib.pyplot as plt"
   ]
  },
  {
   "cell_type": "code",
   "execution_count": 16,
   "id": "715156db-a00b-4065-bc45-e7c0ed0b0f28",
   "metadata": {},
   "outputs": [],
   "source": [
    "def disp(expression):\n",
    "    \"\"\"This function is for easy display of sympy stuff\"\"\"\n",
    "    display(Math(sp.latex(expression)))"
   ]
  },
  {
   "cell_type": "code",
   "execution_count": 17,
   "id": "f552913d-9cde-473a-988f-ab6261ec2183",
   "metadata": {},
   "outputs": [
    {
     "data": {
      "text/latex": [
       "$\\displaystyle - R_{3} \\frac{d}{d t} V_{a}{\\left(t \\right)} + \\frac{- V_{a}{\\left(t \\right)} + V_{o}{\\left(t \\right)}}{R_{2}} + \\frac{- V_{a}{\\left(t \\right)} + V_{i}{\\left(t \\right)}}{R_{1}} = 0$"
      ],
      "text/plain": [
       "<IPython.core.display.Math object>"
      ]
     },
     "metadata": {},
     "output_type": "display_data"
    },
    {
     "data": {
      "text/latex": [
       "$\\displaystyle V_{a}{\\left(t \\right)} = - \\frac{2 R_{1} R_{4} e^{- \\frac{t \\left(R_{1}^{2} R_{2}^{2} R_{3}^{3} R_{4} + R_{1}^{2} R_{2}^{2} R_{3}^{2} R_{4}^{2} + R_{1} R_{2}^{3} R_{3}^{2} R_{4}^{2} + R_{1} R_{2}^{2} R_{3}^{2} R_{4} \\sqrt{R_{1}^{2} R_{3}^{2} + 2 R_{1}^{2} R_{3} R_{4} + R_{1}^{2} R_{4}^{2} - 2 R_{1} R_{2} R_{3} R_{4} + 2 R_{1} R_{2} R_{4}^{2} + R_{2}^{2} R_{4}^{2}}\\right)}{2 R_{1}^{2} R_{2}^{3} R_{3}^{3} R_{4}^{2}}} \\int\\limits^{0} V_{i}{\\left(t \\right)} e^{\\frac{t}{2 R_{1} R_{3}}} e^{\\frac{t}{2 R_{2} R_{3}}} e^{\\frac{t}{2 R_{2} R_{4}}} e^{\\frac{t \\sqrt{R_{1}^{2} R_{3}^{2} + 2 R_{1}^{2} R_{3} R_{4} + R_{1}^{2} R_{4}^{2} - 2 R_{1} R_{2} R_{3} R_{4} + 2 R_{1} R_{2} R_{4}^{2} + R_{2}^{2} R_{4}^{2}}}{2 R_{1} R_{2} R_{3} R_{4}}}\\, dt}{R_{1}^{2} \\left(R_{3}^{2} + 2 R_{3} R_{4} + R_{4}^{2}\\right) - R_{1} \\left(2 R_{2} R_{4} \\left(R_{3} - R_{4}\\right) - R_{3} \\sqrt{R_{1}^{2} \\left(R_{3}^{2} + 2 R_{3} R_{4} + R_{4}^{2}\\right) - 2 R_{1} R_{2} R_{4} \\left(R_{3} - R_{4}\\right) + R_{2}^{2} R_{4}^{2}} + R_{4} \\sqrt{R_{1}^{2} \\left(R_{3}^{2} + 2 R_{3} R_{4} + R_{4}^{2}\\right) - 2 R_{1} R_{2} R_{4} \\left(R_{3} - R_{4}\\right) + R_{2}^{2} R_{4}^{2}}\\right) + R_{2}^{2} R_{4}^{2} - R_{2} R_{4} \\sqrt{R_{1}^{2} \\left(R_{3}^{2} + 2 R_{3} R_{4} + R_{4}^{2}\\right) - 2 R_{1} R_{2} R_{4} \\left(R_{3} - R_{4}\\right) + R_{2}^{2} R_{4}^{2}}} + \\frac{2 R_{1} R_{4} e^{- \\frac{t \\left(R_{1}^{2} R_{2}^{2} R_{3}^{3} R_{4} + R_{1}^{2} R_{2}^{2} R_{3}^{2} R_{4}^{2} + R_{1} R_{2}^{3} R_{3}^{2} R_{4}^{2} + R_{1} R_{2}^{2} R_{3}^{2} R_{4} \\sqrt{R_{1}^{2} R_{3}^{2} + 2 R_{1}^{2} R_{3} R_{4} + R_{1}^{2} R_{4}^{2} - 2 R_{1} R_{2} R_{3} R_{4} + 2 R_{1} R_{2} R_{4}^{2} + R_{2}^{2} R_{4}^{2}}\\right)}{2 R_{1}^{2} R_{2}^{3} R_{3}^{3} R_{4}^{2}}} \\int V_{i}{\\left(t \\right)} e^{\\frac{t}{2 R_{1} R_{3}}} e^{\\frac{t}{2 R_{2} R_{3}}} e^{\\frac{t}{2 R_{2} R_{4}}} e^{\\frac{t \\sqrt{R_{1}^{2} R_{3}^{2} + 2 R_{1}^{2} R_{3} R_{4} + R_{1}^{2} R_{4}^{2} - 2 R_{1} R_{2} R_{3} R_{4} + 2 R_{1} R_{2} R_{4}^{2} + R_{2}^{2} R_{4}^{2}}}{2 R_{1} R_{2} R_{3} R_{4}}}\\, dt}{\\left(R_{1} \\left(R_{3} - R_{4}\\right) - R_{2} R_{4} + \\sqrt{R_{1}^{2} \\left(R_{3}^{2} + 2 R_{3} R_{4} + R_{4}^{2}\\right) - 2 R_{1} R_{2} R_{4} \\left(R_{3} - R_{4}\\right) + R_{2}^{2} R_{4}^{2}}\\right) \\sqrt{R_{1}^{2} \\left(R_{3}^{2} + 2 R_{3} R_{4} + R_{4}^{2}\\right) - 2 R_{1} R_{2} R_{4} \\left(R_{3} - R_{4}\\right) + R_{2}^{2} R_{4}^{2}}} - \\frac{2 R_{1} R_{4} \\left(R_{1} \\left(R_{3} - R_{4}\\right) - R_{2} R_{4} + \\sqrt{R_{1}^{2} \\left(R_{3}^{2} + 2 R_{3} R_{4} + R_{4}^{2}\\right) - 2 R_{1} R_{2} R_{4} \\left(R_{3} - R_{4}\\right) + R_{2}^{2} R_{4}^{2}}\\right) e^{- \\frac{t \\left(R_{1}^{2} R_{2}^{2} R_{3}^{3} R_{4} + R_{1}^{2} R_{2}^{2} R_{3}^{2} R_{4}^{2} + R_{1} R_{2}^{3} R_{3}^{2} R_{4}^{2} - R_{1} R_{2}^{2} R_{3}^{2} R_{4} \\sqrt{R_{1}^{2} R_{3}^{2} + 2 R_{1}^{2} R_{3} R_{4} + R_{1}^{2} R_{4}^{2} - 2 R_{1} R_{2} R_{3} R_{4} + 2 R_{1} R_{2} R_{4}^{2} + R_{2}^{2} R_{4}^{2}}\\right)}{2 R_{1}^{2} R_{2}^{3} R_{3}^{3} R_{4}^{2}}} \\int\\limits^{0} V_{i}{\\left(t \\right)} e^{\\frac{t}{2 R_{1} R_{3}}} e^{\\frac{t}{2 R_{2} R_{3}}} e^{\\frac{t}{2 R_{2} R_{4}}} e^{- \\frac{t \\sqrt{R_{1}^{2} R_{3}^{2} + 2 R_{1}^{2} R_{3} R_{4} + R_{1}^{2} R_{4}^{2} - 2 R_{1} R_{2} R_{3} R_{4} + 2 R_{1} R_{2} R_{4}^{2} + R_{2}^{2} R_{4}^{2}}}{2 R_{1} R_{2} R_{3} R_{4}}}\\, dt}{\\left(- R_{1} \\left(R_{3} - R_{4}\\right) + R_{2} R_{4} + \\sqrt{R_{1}^{2} \\left(R_{3}^{2} + 2 R_{3} R_{4} + R_{4}^{2}\\right) - 2 R_{1} R_{2} R_{4} \\left(R_{3} - R_{4}\\right) + R_{2}^{2} R_{4}^{2}}\\right) \\left(R_{1}^{2} \\left(R_{3}^{2} + 2 R_{3} R_{4} + R_{4}^{2}\\right) - R_{1} \\left(2 R_{2} R_{4} \\left(R_{3} - R_{4}\\right) - R_{3} \\sqrt{R_{1}^{2} \\left(R_{3}^{2} + 2 R_{3} R_{4} + R_{4}^{2}\\right) - 2 R_{1} R_{2} R_{4} \\left(R_{3} - R_{4}\\right) + R_{2}^{2} R_{4}^{2}} + R_{4} \\sqrt{R_{1}^{2} \\left(R_{3}^{2} + 2 R_{3} R_{4} + R_{4}^{2}\\right) - 2 R_{1} R_{2} R_{4} \\left(R_{3} - R_{4}\\right) + R_{2}^{2} R_{4}^{2}}\\right) + R_{2}^{2} R_{4}^{2} - R_{2} R_{4} \\sqrt{R_{1}^{2} \\left(R_{3}^{2} + 2 R_{3} R_{4} + R_{4}^{2}\\right) - 2 R_{1} R_{2} R_{4} \\left(R_{3} - R_{4}\\right) + R_{2}^{2} R_{4}^{2}}\\right)} + \\frac{2 R_{1} R_{4} e^{- \\frac{t \\left(R_{1}^{2} R_{2}^{2} R_{3}^{3} R_{4} + R_{1}^{2} R_{2}^{2} R_{3}^{2} R_{4}^{2} + R_{1} R_{2}^{3} R_{3}^{2} R_{4}^{2} - R_{1} R_{2}^{2} R_{3}^{2} R_{4} \\sqrt{R_{1}^{2} R_{3}^{2} + 2 R_{1}^{2} R_{3} R_{4} + R_{1}^{2} R_{4}^{2} - 2 R_{1} R_{2} R_{3} R_{4} + 2 R_{1} R_{2} R_{4}^{2} + R_{2}^{2} R_{4}^{2}}\\right)}{2 R_{1}^{2} R_{2}^{3} R_{3}^{3} R_{4}^{2}}} \\int V_{i}{\\left(t \\right)} e^{\\frac{t}{2 R_{1} R_{3}}} e^{\\frac{t}{2 R_{2} R_{3}}} e^{\\frac{t}{2 R_{2} R_{4}}} e^{- \\frac{t \\sqrt{R_{1}^{2} R_{3}^{2} + 2 R_{1}^{2} R_{3} R_{4} + R_{1}^{2} R_{4}^{2} - 2 R_{1} R_{2} R_{3} R_{4} + 2 R_{1} R_{2} R_{4}^{2} + R_{2}^{2} R_{4}^{2}}}{2 R_{1} R_{2} R_{3} R_{4}}}\\, dt}{\\left(- R_{1} \\left(R_{3} - R_{4}\\right) + R_{2} R_{4} + \\sqrt{R_{1}^{2} \\left(R_{3}^{2} + 2 R_{3} R_{4} + R_{4}^{2}\\right) - 2 R_{1} R_{2} R_{4} \\left(R_{3} - R_{4}\\right) + R_{2}^{2} R_{4}^{2}}\\right) \\sqrt{R_{1}^{2} \\left(R_{3}^{2} + 2 R_{3} R_{4} + R_{4}^{2}\\right) - 2 R_{1} R_{2} R_{4} \\left(R_{3} - R_{4}\\right) + R_{2}^{2} R_{4}^{2}}}$"
      ],
      "text/plain": [
       "<IPython.core.display.Math object>"
      ]
     },
     "metadata": {},
     "output_type": "display_data"
    },
    {
     "data": {
      "text/latex": [
       "$\\displaystyle V_{o}{\\left(t \\right)} = \\frac{\\left(R_{1} \\left(R_{3} - R_{4}\\right) - R_{2} R_{4} + \\sqrt{R_{1}^{2} \\left(R_{3}^{2} + 2 R_{3} R_{4} + R_{4}^{2}\\right) - 2 R_{1} R_{2} R_{4} \\left(R_{3} - R_{4}\\right) + R_{2}^{2} R_{4}^{2}}\\right) e^{- \\frac{t \\left(R_{1}^{2} R_{2}^{2} R_{3}^{3} R_{4} + R_{1}^{2} R_{2}^{2} R_{3}^{2} R_{4}^{2} + R_{1} R_{2}^{3} R_{3}^{2} R_{4}^{2} + R_{1} R_{2}^{2} R_{3}^{2} R_{4} \\sqrt{R_{1}^{2} R_{3}^{2} + 2 R_{1}^{2} R_{3} R_{4} + R_{1}^{2} R_{4}^{2} - 2 R_{1} R_{2} R_{3} R_{4} + 2 R_{1} R_{2} R_{4}^{2} + R_{2}^{2} R_{4}^{2}}\\right)}{2 R_{1}^{2} R_{2}^{3} R_{3}^{3} R_{4}^{2}}} \\int\\limits^{0} V_{i}{\\left(t \\right)} e^{\\frac{t}{2 R_{1} R_{3}}} e^{\\frac{t}{2 R_{2} R_{3}}} e^{\\frac{t}{2 R_{2} R_{4}}} e^{\\frac{t \\sqrt{R_{1}^{2} R_{3}^{2} + 2 R_{1}^{2} R_{3} R_{4} + R_{1}^{2} R_{4}^{2} - 2 R_{1} R_{2} R_{3} R_{4} + 2 R_{1} R_{2} R_{4}^{2} + R_{2}^{2} R_{4}^{2}}}{2 R_{1} R_{2} R_{3} R_{4}}}\\, dt}{R_{1}^{2} \\left(R_{3}^{2} + 2 R_{3} R_{4} + R_{4}^{2}\\right) - R_{1} \\left(2 R_{2} R_{4} \\left(R_{3} - R_{4}\\right) - R_{3} \\sqrt{R_{1}^{2} \\left(R_{3}^{2} + 2 R_{3} R_{4} + R_{4}^{2}\\right) - 2 R_{1} R_{2} R_{4} \\left(R_{3} - R_{4}\\right) + R_{2}^{2} R_{4}^{2}} + R_{4} \\sqrt{R_{1}^{2} \\left(R_{3}^{2} + 2 R_{3} R_{4} + R_{4}^{2}\\right) - 2 R_{1} R_{2} R_{4} \\left(R_{3} - R_{4}\\right) + R_{2}^{2} R_{4}^{2}}\\right) + R_{2}^{2} R_{4}^{2} - R_{2} R_{4} \\sqrt{R_{1}^{2} \\left(R_{3}^{2} + 2 R_{3} R_{4} + R_{4}^{2}\\right) - 2 R_{1} R_{2} R_{4} \\left(R_{3} - R_{4}\\right) + R_{2}^{2} R_{4}^{2}}} - \\frac{\\left(R_{1} \\left(R_{3} - R_{4}\\right) - R_{2} R_{4} + \\sqrt{R_{1}^{2} \\left(R_{3}^{2} + 2 R_{3} R_{4} + R_{4}^{2}\\right) - 2 R_{1} R_{2} R_{4} \\left(R_{3} - R_{4}\\right) + R_{2}^{2} R_{4}^{2}}\\right) e^{- \\frac{t \\left(R_{1}^{2} R_{2}^{2} R_{3}^{3} R_{4} + R_{1}^{2} R_{2}^{2} R_{3}^{2} R_{4}^{2} + R_{1} R_{2}^{3} R_{3}^{2} R_{4}^{2} - R_{1} R_{2}^{2} R_{3}^{2} R_{4} \\sqrt{R_{1}^{2} R_{3}^{2} + 2 R_{1}^{2} R_{3} R_{4} + R_{1}^{2} R_{4}^{2} - 2 R_{1} R_{2} R_{3} R_{4} + 2 R_{1} R_{2} R_{4}^{2} + R_{2}^{2} R_{4}^{2}}\\right)}{2 R_{1}^{2} R_{2}^{3} R_{3}^{3} R_{4}^{2}}} \\int\\limits^{0} V_{i}{\\left(t \\right)} e^{\\frac{t}{2 R_{1} R_{3}}} e^{\\frac{t}{2 R_{2} R_{3}}} e^{\\frac{t}{2 R_{2} R_{4}}} e^{- \\frac{t \\sqrt{R_{1}^{2} R_{3}^{2} + 2 R_{1}^{2} R_{3} R_{4} + R_{1}^{2} R_{4}^{2} - 2 R_{1} R_{2} R_{3} R_{4} + 2 R_{1} R_{2} R_{4}^{2} + R_{2}^{2} R_{4}^{2}}}{2 R_{1} R_{2} R_{3} R_{4}}}\\, dt}{R_{1}^{2} \\left(R_{3}^{2} + 2 R_{3} R_{4} + R_{4}^{2}\\right) - R_{1} \\left(2 R_{2} R_{4} \\left(R_{3} - R_{4}\\right) - R_{3} \\sqrt{R_{1}^{2} \\left(R_{3}^{2} + 2 R_{3} R_{4} + R_{4}^{2}\\right) - 2 R_{1} R_{2} R_{4} \\left(R_{3} - R_{4}\\right) + R_{2}^{2} R_{4}^{2}} + R_{4} \\sqrt{R_{1}^{2} \\left(R_{3}^{2} + 2 R_{3} R_{4} + R_{4}^{2}\\right) - 2 R_{1} R_{2} R_{4} \\left(R_{3} - R_{4}\\right) + R_{2}^{2} R_{4}^{2}}\\right) + R_{2}^{2} R_{4}^{2} - R_{2} R_{4} \\sqrt{R_{1}^{2} \\left(R_{3}^{2} + 2 R_{3} R_{4} + R_{4}^{2}\\right) - 2 R_{1} R_{2} R_{4} \\left(R_{3} - R_{4}\\right) + R_{2}^{2} R_{4}^{2}}} - \\frac{e^{- \\frac{t \\left(R_{1}^{2} R_{2}^{2} R_{3}^{3} R_{4} + R_{1}^{2} R_{2}^{2} R_{3}^{2} R_{4}^{2} + R_{1} R_{2}^{3} R_{3}^{2} R_{4}^{2} + R_{1} R_{2}^{2} R_{3}^{2} R_{4} \\sqrt{R_{1}^{2} R_{3}^{2} + 2 R_{1}^{2} R_{3} R_{4} + R_{1}^{2} R_{4}^{2} - 2 R_{1} R_{2} R_{3} R_{4} + 2 R_{1} R_{2} R_{4}^{2} + R_{2}^{2} R_{4}^{2}}\\right)}{2 R_{1}^{2} R_{2}^{3} R_{3}^{3} R_{4}^{2}}} \\int V_{i}{\\left(t \\right)} e^{\\frac{t}{2 R_{1} R_{3}}} e^{\\frac{t}{2 R_{2} R_{3}}} e^{\\frac{t}{2 R_{2} R_{4}}} e^{\\frac{t \\sqrt{R_{1}^{2} R_{3}^{2} + 2 R_{1}^{2} R_{3} R_{4} + R_{1}^{2} R_{4}^{2} - 2 R_{1} R_{2} R_{3} R_{4} + 2 R_{1} R_{2} R_{4}^{2} + R_{2}^{2} R_{4}^{2}}}{2 R_{1} R_{2} R_{3} R_{4}}}\\, dt}{\\sqrt{R_{1}^{2} \\left(R_{3}^{2} + 2 R_{3} R_{4} + R_{4}^{2}\\right) - 2 R_{1} R_{2} R_{4} \\left(R_{3} - R_{4}\\right) + R_{2}^{2} R_{4}^{2}}} + \\frac{e^{- \\frac{t \\left(R_{1}^{2} R_{2}^{2} R_{3}^{3} R_{4} + R_{1}^{2} R_{2}^{2} R_{3}^{2} R_{4}^{2} + R_{1} R_{2}^{3} R_{3}^{2} R_{4}^{2} - R_{1} R_{2}^{2} R_{3}^{2} R_{4} \\sqrt{R_{1}^{2} R_{3}^{2} + 2 R_{1}^{2} R_{3} R_{4} + R_{1}^{2} R_{4}^{2} - 2 R_{1} R_{2} R_{3} R_{4} + 2 R_{1} R_{2} R_{4}^{2} + R_{2}^{2} R_{4}^{2}}\\right)}{2 R_{1}^{2} R_{2}^{3} R_{3}^{3} R_{4}^{2}}} \\int V_{i}{\\left(t \\right)} e^{\\frac{t}{2 R_{1} R_{3}}} e^{\\frac{t}{2 R_{2} R_{3}}} e^{\\frac{t}{2 R_{2} R_{4}}} e^{- \\frac{t \\sqrt{R_{1}^{2} R_{3}^{2} + 2 R_{1}^{2} R_{3} R_{4} + R_{1}^{2} R_{4}^{2} - 2 R_{1} R_{2} R_{3} R_{4} + 2 R_{1} R_{2} R_{4}^{2} + R_{2}^{2} R_{4}^{2}}}{2 R_{1} R_{2} R_{3} R_{4}}}\\, dt}{\\sqrt{R_{1}^{2} \\left(R_{3}^{2} + 2 R_{3} R_{4} + R_{4}^{2}\\right) - 2 R_{1} R_{2} R_{4} \\left(R_{3} - R_{4}\\right) + R_{2}^{2} R_{4}^{2}}}$"
      ],
      "text/plain": [
       "<IPython.core.display.Math object>"
      ]
     },
     "metadata": {},
     "output_type": "display_data"
    }
   ],
   "source": [
    "R1, R2, C1, C2, t = sp.symbols('R_1 R_2 R_3 R_4 t')\n",
    "Vi = sp.Function('V_i')(t)\n",
    "Va = sp.Function('V_a')(t)\n",
    "Vo = sp.Function('V_o')(t)\n",
    "\n",
    "Vi = 1\n",
    "\n",
    "eq1 = sp.Eq((Vi-Va)/R1 - C1*sp.Derivative(Va, t) + (Vo-Va)/R2, 0)\n",
    "eq2 = sp.Eq((Va-Vo)/R2 - C2*sp.Derivative(Vo, t), 0)\n",
    "\n",
    "solution = sp.dsolve((eq1, eq2), ics={Va.subs(t, 0): 0, Vo.subs(t, 0): 0})\n",
    "\n",
    "for sol in solution:\n",
    "    disp(sol)"
   ]
  }
 ],
 "metadata": {
  "kernelspec": {
   "display_name": "Python 3 (ipykernel)",
   "language": "python",
   "name": "python3"
  },
  "language_info": {
   "codemirror_mode": {
    "name": "ipython",
    "version": 3
   },
   "file_extension": ".py",
   "mimetype": "text/x-python",
   "name": "python",
   "nbconvert_exporter": "python",
   "pygments_lexer": "ipython3",
   "version": "3.12.2"
  }
 },
 "nbformat": 4,
 "nbformat_minor": 5
}

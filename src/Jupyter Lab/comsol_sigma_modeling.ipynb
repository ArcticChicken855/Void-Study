{
 "cells": [
  {
   "cell_type": "markdown",
   "metadata": {},
   "source": [
    "This is used to calculate the characteristics of the diode."
   ]
  },
  {
   "cell_type": "code",
   "execution_count": 13,
   "metadata": {},
   "outputs": [],
   "source": [
    "import sympy as sp\n",
    "from IPython.display import display, Math\n",
    "import plotly.graph_objects as go\n",
    "import numpy as np\n",
    "import matplotlib.pyplot as plt"
   ]
  },
  {
   "cell_type": "code",
   "execution_count": 14,
   "metadata": {},
   "outputs": [],
   "source": [
    "def disp(expression):\n",
    "    \"\"\"This function is for easy display of sympy stuff\"\"\"\n",
    "    display(Math(sp.latex(expression)))"
   ]
  },
  {
   "cell_type": "code",
   "execution_count": 15,
   "metadata": {},
   "outputs": [
    {
     "ename": "TypeError",
     "evalue": "lambdify() missing 1 required positional argument: 'expr'",
     "output_type": "error",
     "traceback": [
      "\u001b[1;31m---------------------------------------------------------------------------\u001b[0m",
      "\u001b[1;31mTypeError\u001b[0m                                 Traceback (most recent call last)",
      "Cell \u001b[1;32mIn[15], line 11\u001b[0m\n\u001b[0;32m      7\u001b[0m T \u001b[38;5;241m=\u001b[39m sp\u001b[38;5;241m.\u001b[39msymbols(\u001b[38;5;124m'\u001b[39m\u001b[38;5;124mT\u001b[39m\u001b[38;5;124m'\u001b[39m)\n\u001b[0;32m      9\u001b[0m Eg \u001b[38;5;241m=\u001b[39m Eg0\u001b[38;5;241m-\u001b[39malpha\u001b[38;5;241m*\u001b[39mT\u001b[38;5;241m*\u001b[39m\u001b[38;5;241m*\u001b[39m\u001b[38;5;241m2\u001b[39m\u001b[38;5;241m/\u001b[39m(T\u001b[38;5;241m+\u001b[39mbeta) \u001b[38;5;66;03m# in eV\u001b[39;00m\n\u001b[1;32m---> 11\u001b[0m \u001b[38;5;28mprint\u001b[39m(\u001b[43msp\u001b[49m\u001b[38;5;241;43m.\u001b[39;49m\u001b[43mlambdify\u001b[49m\u001b[43m(\u001b[49m\u001b[43mEg\u001b[49m\u001b[43m)\u001b[49m(\u001b[38;5;241m300\u001b[39m))\n",
      "\u001b[1;31mTypeError\u001b[0m: lambdify() missing 1 required positional argument: 'expr'"
     ]
    }
   ],
   "source": [
    "# first, get silicon bandgap using temperature-dependence from: [56] Y. P. Varshni, Physica 1967, 34, 149.\n",
    "# has the form Eg(T)=Eg(0)-alpha*T**2/(T+beta).\n",
    "Eg0 = 1.1557 # eV\n",
    "alpha = 7.021E-4\n",
    "beta = 1108\n",
    "\n",
    "T = sp.symbols('T')\n",
    "\n",
    "Eg = Eg0-alpha*T**2/(T+beta) # in eV\n",
    "\n",
    "print(sp.lambdify(T, Eg)(300))\n",
    "\n"
   ]
  }
 ],
 "metadata": {
  "kernelspec": {
   "display_name": "env",
   "language": "python",
   "name": "python3"
  },
  "language_info": {
   "codemirror_mode": {
    "name": "ipython",
    "version": 3
   },
   "file_extension": ".py",
   "mimetype": "text/x-python",
   "name": "python",
   "nbconvert_exporter": "python",
   "pygments_lexer": "ipython3",
   "version": "3.12.2"
  }
 },
 "nbformat": 4,
 "nbformat_minor": 2
}

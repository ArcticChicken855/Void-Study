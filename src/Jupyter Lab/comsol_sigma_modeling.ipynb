{
 "cells": [
  {
   "cell_type": "markdown",
   "metadata": {},
   "source": [
    "This is used to calculate the characteristics of the diode."
   ]
  },
  {
   "cell_type": "code",
   "execution_count": 16,
   "metadata": {},
   "outputs": [],
   "source": [
    "import sympy as sp\n",
    "from IPython.display import display, Math\n",
    "import plotly.graph_objects as go\n",
    "import numpy as np\n",
    "import matplotlib.pyplot as plt"
   ]
  },
  {
   "cell_type": "code",
   "execution_count": 17,
   "metadata": {},
   "outputs": [],
   "source": [
    "def disp(expression):\n",
    "    \"\"\"This function is for easy display of sympy stuff\"\"\"\n",
    "    display(Math(sp.latex(expression)))"
   ]
  },
  {
   "cell_type": "code",
   "execution_count": 18,
   "metadata": {},
   "outputs": [
    {
     "name": "stdout",
     "output_type": "stream",
     "text": [
      "1.1108214488636363\n"
     ]
    }
   ],
   "source": [
    "# first, get silicon bandgap using temperature-dependence from: [56] Y. P. Varshni, Physica 1967, 34, 149.\n",
    "# file:///C:/Users/natha/Downloads/Rahmani_et_al-2017-Advanced_Functional_Materials.pdf\n",
    "# has the form Eg(T)=Eg(0)-alpha*T**2/(T+beta).\n",
    "Eg0 = 1.1557 # eV\n",
    "alpha = 7.021E-4\n",
    "beta = 1108\n",
    "\n",
    "T = sp.symbols('T')\n",
    "\n",
    "Eg = Eg0-alpha*T**2/(T+beta) # in eV\n",
    "\n",
    "print(sp.lambdify(T, Eg)(300))\n",
    "\n"
   ]
  }
 ],
 "metadata": {
  "kernelspec": {
   "display_name": "env",
   "language": "python",
   "name": "python3"
  },
  "language_info": {
   "codemirror_mode": {
    "name": "ipython",
    "version": 3
   },
   "file_extension": ".py",
   "mimetype": "text/x-python",
   "name": "python",
   "nbconvert_exporter": "python",
   "pygments_lexer": "ipython3",
   "version": "3.12.2"
  }
 },
 "nbformat": 4,
 "nbformat_minor": 2
}

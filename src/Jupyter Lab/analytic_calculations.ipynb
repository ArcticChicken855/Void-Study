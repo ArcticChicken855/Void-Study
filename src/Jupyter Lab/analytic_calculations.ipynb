{
 "cells": [
  {
   "cell_type": "code",
   "execution_count": 1,
   "id": "1ee86a84-a896-4371-b24b-0616d962f772",
   "metadata": {},
   "outputs": [],
   "source": [
    "import sympy as sp\n",
    "from IPython.display import display, Math\n",
    "import plotly.graph_objects as go\n",
    "import numpy as np\n",
    "import matplotlib.pyplot as plt"
   ]
  },
  {
   "cell_type": "code",
   "execution_count": 2,
   "id": "715156db-a00b-4065-bc45-e7c0ed0b0f28",
   "metadata": {},
   "outputs": [],
   "source": [
    "def disp(expression):\n",
    "    \"\"\"This function is for easy display of sympy stuff\"\"\"\n",
    "    display(Math(sp.latex(expression)))"
   ]
  },
  {
   "cell_type": "markdown",
   "id": "654dd5b1-2d0f-4335-b40f-37aa1a2fdef0",
   "metadata": {},
   "source": [
    "Now, define some useful matrices"
   ]
  },
  {
   "cell_type": "code",
   "execution_count": 3,
   "id": "6b9d5015-087e-489f-af19-7ab369380ce0",
   "metadata": {},
   "outputs": [],
   "source": [
    "beta, gamma = sp.symbols('β γ')\n",
    "\n",
    "I_3 = sp.Matrix([[1, 0, 0], \n",
    "                 [0, 1, 0], \n",
    "                 [0, 0, 1]])\n",
    "\n",
    "Rx = sp.Matrix([[1,      0,              0       ], \n",
    "                [0, sp.cos(gamma), -sp.sin(gamma)], \n",
    "                [0, sp.sin(gamma),  sp.cos(gamma)]])\n",
    "\n",
    "Ry = sp.Matrix([[sp.cos(beta),  0, sp.sin(beta)],\n",
    "                [      0,       1,        0    ],\n",
    "                [-sp.sin(beta), 0, sp.cos(beta)]])"
   ]
  },
  {
   "cell_type": "code",
   "execution_count": 4,
   "id": "83a3cac8-e05a-4fb8-b417-260ac58dc85e",
   "metadata": {},
   "outputs": [],
   "source": [
    "# make objects for the DBC and the chip. The DBC is an infinite flat plane along x-y. The chip is a rectangle with the length along the x-axis, the width along the y-axis, and with the x-axis normal to the surface. The chip is located above the DBC, and has some rotation applied along its x and y axes.\n",
    "chip_height = sp.symbols('h_c')\n",
    "chip_position = sp.Matrix([[0], [0], [chip_height]])\n",
    "chip_coord_sys = Rx * Ry * I_3\n",
    "\n",
    "DBC_position = sp.Matrix([[0], [0], [0]])\n",
    "DBC_norm_vec_endpoint = sp.Matrix([[0], [0], [1]])\n",
    "\n",
    "# now, shift the whole system down so that the chip is at the origin\n",
    "chip_position = sp.Matrix([[0], [0], [0]])\n",
    "DBC_position = sp.Matrix([[0], [0], [-chip_height]])\n",
    "DBC_norm_vec_endpoint = sp.Matrix([[0], [0], [1-chip_height]])\n",
    "\n",
    "# get the reverse rotation matrices using the fact that the inverse of a rotation matrix is its transpose\n",
    "Rx_inv = sp.transpose(Rx)\n",
    "Ry_inv = sp.transpose(Ry)\n",
    "\n",
    "# Now rotate the whole system to re-align the chip\n",
    "chip_coord_sys = sp.simplify(Ry_inv * Rx_inv * chip_coord_sys)\n",
    "DBC_position = Ry_inv * Rx_inv * DBC_position\n",
    "DBC_norm_vec_endpoint = Ry_inv * Rx_inv * DBC_norm_vec_endpoint\n",
    "\n",
    "# calculate the normal vector and use it to form a plane\n",
    "x, y, z, Z_0 = sp.symbols('x y z Z_0')\n",
    "DBC_norm_vec = sp.simplify(DBC_norm_vec_endpoint - DBC_position)\n",
    "DBC_plane = sp.Eq(DBC_norm_vec[0]*x + DBC_norm_vec[1]*y + DBC_norm_vec[2]*z, Z_0)\n",
    "\n",
    "# solve for z to get a function for the plane in terms of x and y\n",
    "DBC_func = sp.solve(DBC_plane, z)[0]\n",
    "\n",
    "# use the fact that the DBC_position point is located on the plane to solve for Z_0\n",
    "eqn = sp.Eq(DBC_func.subs({x:DBC_position[0], y:DBC_position[1]}), DBC_position[2])\n",
    "new_Z_0 = sp.solve(eqn, Z_0)[0]\n",
    "DBC_func = DBC_func.subs({Z_0:new_Z_0})\n",
    "\n",
    "# make a function h(x,y) for the height of the solder layer at (x,y). This is just the distance from the x-y plane (where the chip is currently located) to the DBC plane. Since the DBC is below the x-axis, h(x,y) is just the negative of the DBC plane.\n",
    "h = -DBC_func\n",
    "\n",
    "# thermal conductivity has the form Y = kA/h, where k is the material conductivity, A is the area of contact, and h is the height of the material. The differential form is then dY = k*dA / h(x,y). This just needs to be integrated along x and y to obtain the thermal conductivity.\n",
    "L, W, k = sp.symbols('L W k')\n",
    "\n",
    "Yth = sp.integrate(k/h, (x, -L/2, L/2), (y, -W/2, W/2))\n",
    "\n",
    "Rth = sp.simplify(1/Yth)"
   ]
  },
  {
   "cell_type": "code",
   "execution_count": 26,
   "id": "a04ee48c-d46f-4268-bd60-7a6a24aa3d2d",
   "metadata": {},
   "outputs": [],
   "source": [
    "# give the parameters values for the plot\n",
    "length = 5E-3\n",
    "width = 3E-3\n",
    "height = 0.1E-3\n",
    "conductivity = 58.7\n",
    "Rth_plottable = sp.simplify(Rth.subs({L:length, \n",
    "                                      W:width, \n",
    "                                      chip_height:height,    \n",
    "                                      k:conductivity}))\n",
    "\n",
    "# now plot it where gamma is along x (rows) and beta is along y (columns)\n",
    "resolution = 30\n",
    "gamma_vals_degrees = np.linspace(-4, 4, resolution) #DEGREES\n",
    "beta_vals_degrees = np.linspace(-4, 4, resolution) #DEGREES\n",
    "\n",
    "gamma_vals = gamma_vals_degrees * 2*np.pi/360\n",
    "beta_vals = beta_vals_degrees * 2*np.pi/360\n",
    "\n",
    "\n",
    "Rth_vals = np.zeros((len(gamma_vals), len(beta_vals)), dtype='float')\n",
    "\n",
    "for i, gam in enumerate(gamma_vals):\n",
    "    for j, bet in enumerate(beta_vals):\n",
    "\n",
    "        # check to see if the value is imaginary, if so, that means the chip is intersecting with the DBC\n",
    "        temp = Rth_plottable.subs({gamma:gam, beta:bet})\n",
    "        real_part = sp.re(temp)\n",
    "        im_part = sp.im(temp)\n",
    "        small_step = 1E-10\n",
    "        if (im_part < -small_step) or (im_part > small_step):\n",
    "            Rth_vals[i, j] = None\n",
    "        else:\n",
    "            Rth_vals[i, j] = real_part"
   ]
  },
  {
   "cell_type": "code",
   "execution_count": 27,
   "id": "5bf4aad4-006d-4b30-9a33-2d75b8f4cd66",
   "metadata": {},
   "outputs": [
    {
     "data": {
      "image/png": "[encoded data removed]",
      "text/plain": [
       "<Figure size 640x480 with 2 Axes>"
      ]
     },
     "metadata": {},
     "output_type": "display_data"
    }
   ],
   "source": [
    "# now I can finally plot it\n",
    "fig, ax = plt.subplots()\n",
    "\n",
    "ax.set_title('Rth versus chip tilt')\n",
    "\n",
    "ax = plt.imshow(Rth_vals, cmap='jet', interpolation='nearest', aspect='auto')\n",
    "plt.colorbar()\n",
    "\n",
    "num_ticks = 11\n",
    "plt_axes = ax.axes\n",
    "plt_axes.set_xlabel('γ (degrees)')\n",
    "plt_axes.set_ylabel('β (degrees)')\n",
    "\n",
    "# add ticks to the x-axis\n",
    "xtickvals = np.ndarray.tolist(np.linspace(min(gamma_vals_degrees), max(gamma_vals_degrees), num_ticks))\n",
    "xlabels = list()\n",
    "for fp in xtickvals:\n",
    "    xlabels.append('%.1f' % fp)\n",
    "plt_axes.set_xticks(np.linspace(0, len(gamma_vals)-1, num_ticks), xlabels)\n",
    "\n",
    "# add ticks to the y-axis\n",
    "ytickvals = np.ndarray.tolist(np.linspace(min(beta_vals_degrees), max(beta_vals_degrees), num_ticks))\n",
    "ylabels = list()\n",
    "for fp in ytickvals:\n",
    "    ylabels.append('%.1f' % fp)\n",
    "plt_axes.set_yticks(np.linspace(0, len(beta_vals)-1, num_ticks), ylabels)\n",
    "\n",
    "# Show the plot\n",
    "plt.show()"
   ]
  },
  {
   "cell_type": "code",
   "execution_count": 28,
   "id": "ae299952-a12e-45ed-b182-5db9046570ca",
   "metadata": {},
   "outputs": [
    {
     "data": {
      "text/latex": [
       "$\\displaystyle \\frac{2 \\sin{\\left(γ \\right)} \\tan{\\left(β \\right)}}{k \\left(W \\left(\\log{\\left(- \\frac{L \\sin{\\left(β \\right)} \\cos{\\left(γ \\right)}}{2} - \\frac{W \\sin{\\left(γ \\right)}}{2} - h_{c} \\right)} + \\log{\\left(- \\frac{L \\sin{\\left(β \\right)} \\cos{\\left(γ \\right)}}{2} + \\frac{W \\sin{\\left(γ \\right)}}{2} - h_{c} \\right)} - \\log{\\left(\\frac{L \\sin{\\left(β \\right)} \\cos{\\left(γ \\right)}}{2} - \\frac{W \\sin{\\left(γ \\right)}}{2} - h_{c} \\right)} - \\log{\\left(\\frac{L \\sin{\\left(β \\right)} \\cos{\\left(γ \\right)}}{2} + \\frac{W \\sin{\\left(γ \\right)}}{2} - h_{c} \\right)}\\right) \\sin{\\left(γ \\right)} - \\left(L \\sin{\\left(β \\right)} \\cos{\\left(γ \\right)} - 2 h_{c}\\right) \\log{\\left(- \\frac{L \\sin{\\left(β \\right)}}{2 \\tan{\\left(γ \\right)}} - \\frac{W}{2} + \\frac{h_{c}}{\\sin{\\left(γ \\right)}} \\right)} + \\left(L \\sin{\\left(β \\right)} \\cos{\\left(γ \\right)} - 2 h_{c}\\right) \\log{\\left(- \\frac{L \\sin{\\left(β \\right)}}{2 \\tan{\\left(γ \\right)}} + \\frac{W}{2} + \\frac{h_{c}}{\\sin{\\left(γ \\right)}} \\right)} - \\left(L \\sin{\\left(β \\right)} \\cos{\\left(γ \\right)} + 2 h_{c}\\right) \\log{\\left(\\frac{L \\sin{\\left(β \\right)}}{2 \\tan{\\left(γ \\right)}} - \\frac{W}{2} + \\frac{h_{c}}{\\sin{\\left(γ \\right)}} \\right)} + \\left(L \\sin{\\left(β \\right)} \\cos{\\left(γ \\right)} + 2 h_{c}\\right) \\log{\\left(\\frac{L \\sin{\\left(β \\right)}}{2 \\tan{\\left(γ \\right)}} + \\frac{W}{2} + \\frac{h_{c}}{\\sin{\\left(γ \\right)}} \\right)}\\right)}$"
      ],
      "text/plain": [
       "<IPython.core.display.Math object>"
      ]
     },
     "metadata": {},
     "output_type": "display_data"
    }
   ],
   "source": [
    "disp(Rth)"
   ]
  },
  {
   "cell_type": "code",
   "execution_count": 29,
   "id": "6058be9f-483c-43e4-a043-5437218488c7",
   "metadata": {},
   "outputs": [
    {
     "name": "stdout",
     "output_type": "stream",
     "text": [
      "2*sin(γ)*tan(β)/(k*(W*(log(-L*sin(β)*cos(γ)/2 - W*sin(γ)/2 - h_c) + log(-L*sin(β)*cos(γ)/2 + W*sin(γ)/2 - h_c) - log(L*sin(β)*cos(γ)/2 - W*sin(γ)/2 - h_c) - log(L*sin(β)*cos(γ)/2 + W*sin(γ)/2 - h_c))*sin(γ) - (L*sin(β)*cos(γ) - 2*h_c)*log(-L*sin(β)/(2*tan(γ)) - W/2 + h_c/sin(γ)) + (L*sin(β)*cos(γ) - 2*h_c)*log(-L*sin(β)/(2*tan(γ)) + W/2 + h_c/sin(γ)) - (L*sin(β)*cos(γ) + 2*h_c)*log(L*sin(β)/(2*tan(γ)) - W/2 + h_c/sin(γ)) + (L*sin(β)*cos(γ) + 2*h_c)*log(L*sin(β)/(2*tan(γ)) + W/2 + h_c/sin(γ))))\n"
     ]
    }
   ],
   "source": [
    "print(Rth)"
   ]
  },
  {
   "cell_type": "code",
   "execution_count": null,
   "id": "f7239e60-0242-458d-9c50-292512a4869f",
   "metadata": {},
   "outputs": [],
   "source": []
  }
 ],
 "metadata": {
  "kernelspec": {
   "display_name": "Python 3 (ipykernel)",
   "language": "python",
   "name": "python3"
  },
  "language_info": {
   "codemirror_mode": {
    "name": "ipython",
    "version": 3
   },
   "file_extension": ".py",
   "mimetype": "text/x-python",
   "name": "python",
   "nbconvert_exporter": "python",
   "pygments_lexer": "ipython3",
   "version": "3.12.5"
  }
 },
 "nbformat": 4,
 "nbformat_minor": 5
}

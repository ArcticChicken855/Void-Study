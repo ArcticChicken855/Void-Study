{
 "cells": [
  {
   "cell_type": "markdown",
   "id": "590c8568-1169-479b-a994-cc1a73767e9d",
   "metadata": {},
   "source": [
    "The goal of this version is to use the chip as the reference frame, rather than the DBC. First, the tilt of the chip will be defined using theta and phi. This definition uses the DBC as a reference frame. Then, the reference frame will be rotated and shifted such that the normal vector to the chip is vertical and is centered at the origin. Then, a plane can be defined for the DBC that is referenced to the chip. From here, an area integral will be taken from the chip down to the DBC. This integral will compute the total thermal admittance."
   ]
  },
  {
   "cell_type": "markdown",
   "id": "532347c8-01b9-489e-9858-bd3f6ea3f17d",
   "metadata": {},
   "source": [
    "Symbolic note: The normal vector is defined such that when phi and theta are 0, the four corners are at +-(w/2, L/2). Phi is the azimuth angle, and theta is the polar angle."
   ]
  },
  {
   "cell_type": "code",
   "execution_count": 1,
   "id": "1ee86a84-a896-4371-b24b-0616d962f772",
   "metadata": {},
   "outputs": [],
   "source": [
    "import sympy as sp\n",
    "from IPython.display import display, Math\n",
    "import plotly.graph_objects as go\n",
    "import numpy as np"
   ]
  },
  {
   "cell_type": "code",
   "execution_count": 2,
   "id": "6a4ee878-ac68-44f0-ba1e-43e0f32d461f",
   "metadata": {},
   "outputs": [],
   "source": [
    "def spherical_to_cartesian(rho, phi, theta):\n",
    "    x = rho * sp.sin(phi) * sp.cos(theta)\n",
    "    y = rho * sp.sin(phi) * sp.sin(theta)\n",
    "    z = rho * sp.cos(phi)\n",
    "    return [x, y, z]"
   ]
  },
  {
   "cell_type": "code",
   "execution_count": 3,
   "id": "715156db-a00b-4065-bc45-e7c0ed0b0f28",
   "metadata": {},
   "outputs": [],
   "source": [
    "def disp(expression):\n",
    "    display(Math(sp.latex(expression)))"
   ]
  },
  {
   "cell_type": "code",
   "execution_count": 4,
   "id": "f5b53556-e7b3-4ef6-882d-3083ad45e081",
   "metadata": {},
   "outputs": [],
   "source": [
    "# define the chip tilt in terms of a unit normal vector to the surface\n",
    "n_c, phi_c, theta_c = sp.symbols('n_c φ_c θ_c')\n",
    "\n",
    "# define the DBC tilt after the change of reference frame\n",
    "n_p, phi_p, theta_p = sp.symbols('n_p φ_p θ_p')\n",
    "\n",
    "# define the chip width and length, as well as the solder volume used\n",
    "W, L, V_solder = sp.symbols('W L V_s')"
   ]
  },
  {
   "cell_type": "markdown",
   "id": "1327eb51-1c53-4df4-b03d-11603487f8dc",
   "metadata": {},
   "source": [
    "The goal of the next block is to define a function d(x,y) that represents the height of the solder layer at that specific point. The function d(x,y) uses the chip reference system, and is bounded by +-(W/2, L/2)."
   ]
  },
  {
   "cell_type": "code",
   "execution_count": 12,
   "id": "53ce706c-bf37-4357-bc68-51e8cb80368f",
   "metadata": {},
   "outputs": [],
   "source": [
    "# After the change of reference, the plane will be located as follows:\n",
    "phi_p = phi_c\n",
    "theta_p = theta_c + sp.pi\n",
    "\n",
    "# convert to cartesian\n",
    "n_p = sp.Matrix(spherical_to_cartesian(1, phi_p, theta_p))\n",
    "\n",
    "# from this vector, make the equation for the plane at x=0, but leave the z-intercept unsolved for now.\n",
    "x, y, z, P_0 = sp.symbols('x y z P_0')\n",
    "DBC_plane_eqn = sp.Eq(n_p[0]*x + n_p[1]*y + n_p[2]*z, P_0)\n",
    "\n",
    "# solve the plane equation for z\n",
    "sol_z = sp.solve(DBC_plane_eqn, z)[0]\n",
    "\n",
    "# then, the distance from the chip to the plane at (x,y) is just    d=-z. If the value of d is negative anywhere on the chip, then the DBC intersects the chip and is an invalid input.\n",
    "d = sp.symbols('d')\n",
    "d = -1 * sol_z"
   ]
  },
  {
   "cell_type": "markdown",
   "id": "708b8075-dfe0-4be6-a4ff-578b3bcda225",
   "metadata": {},
   "source": [
    "The goal of this section is to find the value of P_0 based on the specified solder volume."
   ]
  },
  {
   "cell_type": "code",
   "execution_count": 15,
   "id": "1e8319be-1def-4bc0-bdc9-734128f1c8c8",
   "metadata": {},
   "outputs": [
    {
     "data": {
      "text/latex": [
       "$\\displaystyle W \\left(- \\frac{P_{0}}{\\cos{\\left(φ_{c} \\right)}} - \\frac{y \\sin{\\left(θ_{c} \\right)} \\sin{\\left(φ_{c} \\right)}}{\\cos{\\left(φ_{c} \\right)}}\\right)$"
      ],
      "text/plain": [
       "<IPython.core.display.Math object>"
      ]
     },
     "metadata": {},
     "output_type": "display_data"
    },
    {
     "data": {
      "text/latex": [
       "$\\displaystyle - \\frac{L P_{0} W}{\\cos{\\left(φ_{c} \\right)}}$"
      ],
      "text/plain": [
       "<IPython.core.display.Math object>"
      ]
     },
     "metadata": {},
     "output_type": "display_data"
    },
    {
     "data": {
      "text/latex": [
       "$\\displaystyle - \\frac{P_{0} + x \\sin{\\left(φ_{c} \\right)} \\cos{\\left(θ_{c} \\right)} + y \\sin{\\left(θ_{c} \\right)} \\sin{\\left(φ_{c} \\right)}}{\\cos{\\left(φ_{c} \\right)}}$"
      ],
      "text/plain": [
       "<IPython.core.display.Math object>"
      ]
     },
     "metadata": {},
     "output_type": "display_data"
    }
   ],
   "source": [
    "vol_integral_x = sp.integrate(d, (x, -W/2, W/2))\n",
    "vol_integral_y = sp.integrate(vol_integral_x, (y, -L/2, L/2))\n",
    "\n",
    "disp(vol_integral_x)\n",
    "disp(vol_integral_y)\n",
    "disp(d)"
   ]
  },
  {
   "cell_type": "code",
   "execution_count": null,
   "id": "cd2b5cba-38d2-4b1f-b6eb-d649820d549d",
   "metadata": {},
   "outputs": [],
   "source": []
  }
 ],
 "metadata": {
  "kernelspec": {
   "display_name": "Python 3 (ipykernel)",
   "language": "python",
   "name": "python3"
  },
  "language_info": {
   "codemirror_mode": {
    "name": "ipython",
    "version": 3
   },
   "file_extension": ".py",
   "mimetype": "text/x-python",
   "name": "python",
   "nbconvert_exporter": "python",
   "pygments_lexer": "ipython3",
   "version": "3.12.5"
  }
 },
 "nbformat": 4,
 "nbformat_minor": 5
}
